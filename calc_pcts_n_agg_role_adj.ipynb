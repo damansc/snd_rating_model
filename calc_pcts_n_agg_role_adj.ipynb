{
 "cells": [
  {
   "cell_type": "code",
   "execution_count": null,
   "metadata": {},
   "outputs": [],
   "source": [
    "import os\n",
    "import pandas as pd"
   ]
  },
  {
   "cell_type": "code",
   "execution_count": 22,
   "metadata": {},
   "outputs": [],
   "source": [
    "EVENT_FOLDER = './events_csv'\n",
    "EVENT_FILES = os.listdir(EVENT_FOLDER)\n",
    "\n",
    "event_list = []\n",
    "event_names = ['Dallas', 'New Orleans', 'Atlanta', 'Birmingham', ' Pro League 1', 'Relegation', 'Seattle',\n",
    "               'Anaheim', 'Pro League 2', 'Champs']\n",
    "event_dict = {}\n",
    "ww2_snd = []\n",
    "\n",
    "for x in EVENT_FILES:\n",
    "    with open('{}/{}'.format(EVENT_FOLDER, x)) as f:\n",
    "        temp = pd.read_csv(f)\n",
    "        event_list.append(temp)\n",
    "\n",
    "event_dict = dict(zip(event_names, event_list))\n",
    "\n",
    "meta_df = pd.concat(event_list[:])\n",
    "\n",
    "ww2_snd = meta_df[meta_df['mode'] == 'Search & Destroy']"
   ]
  },
  {
   "cell_type": "code",
   "execution_count": 46,
   "metadata": {},
   "outputs": [],
   "source": [
    "w_df = ww2_snd[:]\n",
    "\n",
    "# stats to be used in model\n",
    "target_stats = ['match id','player', 'fave weapon', 'kills', 'kills (stayed alive)', 'shots', \n",
    "                'avg time per life (s)', 'snd firstbloods', 'scorestreaks earned', 'snd rounds']\n",
    "\n",
    "# objects within 'fave weapon' that influence model results\n",
    "n2low = ['M1 Garand', 'M1941']\n",
    "distort = ['Kar98k', 'Springfield'] + n2low\n",
    "\n",
    "\n",
    "w_df2 = w_df[target_stats]\n",
    "\n",
    "w_df3 = w_df2[~w_df2['fave weapon'].isin(distort)].copy()\n",
    "w_df3['avg time per life (s)'] = pd.to_numeric(w_df3['avg time per life (s)'], errors=\"coerce\")\n",
    "\n",
    "stat_loop = ['fave weapon', 'kills', 'kills (stayed alive)', 'shots', 'avg time per life (s)', \n",
    "             'snd firstbloods', 'scorestreaks earned']\n",
    "per_rnd_avgs = ['akpr', 'antk', 'avs', 'atpl', 'afbr', 'ser']\n",
    "\n",
    "# need to make into a loop but was getting the following error:\n",
    "#  unsupported operand type(s) for /: 'str' and 'int'\n",
    "w_df3['akpr'] = w_df3['kills']/w_df3['snd rounds']\n",
    "w_df3['antk'] = w_df3['kills (stayed alive)']/w_df3['snd rounds']\n",
    "w_df3['avs'] = w_df3['shots']/w_df3['snd rounds']\n",
    "w_df3['atpl'] = w_df3['avg time per life (s)']/w_df3['snd rounds']\n",
    "w_df3['afbr'] = w_df3['snd firstbloods']/w_df3['snd rounds']\n",
    "w_df3['ser'] = w_df3['scorestreaks earned']/w_df3['snd rounds']\n"
   ]
  },
  {
   "cell_type": "code",
   "execution_count": 66,
   "metadata": {},
   "outputs": [
    {
     "name": "stdout",
     "output_type": "stream",
     "text": [
      "                 akpr      antk        avs      atpl      afbr       ser\n",
      "fave weapon                                                             \n",
      "BAR          0.707278  0.581772  14.393547  4.976426  0.109711  0.022617\n",
      "FG 42        0.718197  0.605839  11.807250  5.294200  0.118996  0.041071\n",
      "PPSh-41      0.678473  0.550985  14.490083  4.680116  0.130141  0.025398\n",
      "STG-44       0.691446  0.577466  17.317993  4.956471  0.115907  0.027732\n",
      "                 akpr      antk       avs      atpl      afbr       ser\n",
      "fave weapon                                                            \n",
      "BAR          0.012062  0.004761 -0.007493 -0.000076 -0.075640 -0.225562\n",
      "FG 42        0.027687  0.046326 -0.185831  0.063775  0.002587  0.406311\n",
      "PPSh-41     -0.029156 -0.048411 -0.000837 -0.059614  0.096491 -0.130327\n",
      "STG-44      -0.010593 -0.002676  0.194162 -0.004085 -0.023439 -0.050421\n"
     ]
    }
   ],
   "source": [
    "by_weapon_per_stat_means = w_df3.groupby('fave weapon')['akpr', 'antk', 'avs', 'atpl', 'afbr', 'ser'].mean()\n",
    "\n",
    "print(by_weapon_per_stat_means)\n",
    "\n",
    "stat_mean = by_weapon_per_stat_means.mean()\n",
    "\n",
    "by_weapon_per_stat_means['akpr'] = (by_weapon_per_stat_means['akpr']-stat_mean[0])/stat_mean[0]\n",
    "by_weapon_per_stat_means['antk'] = (by_weapon_per_stat_means['antk']-stat_mean[1])/stat_mean[1]\n",
    "by_weapon_per_stat_means['avs'] = (by_weapon_per_stat_means['avs']-stat_mean[2])/stat_mean[2]\n",
    "by_weapon_per_stat_means['atpl'] = (by_weapon_per_stat_means['atpl']-stat_mean[3])/stat_mean[3]\n",
    "by_weapon_per_stat_means['afbr'] = (by_weapon_per_stat_means['afbr']-stat_mean[4])/stat_mean[4]\n",
    "by_weapon_per_stat_means['ser'] = (by_weapon_per_stat_means['ser']-stat_mean[5])/stat_mean[5]\n",
    "\n",
    "pct_adj_final = by_weapon_per_stat_means[:]\n",
    "print(pct_adj_final)\n"
   ]
  }
 ],
 "metadata": {
  "kernelspec": {
   "display_name": "Python 3",
   "language": "python",
   "name": "python3"
  },
  "language_info": {
   "codemirror_mode": {
    "name": "ipython",
    "version": 3
   },
   "file_extension": ".py",
   "mimetype": "text/x-python",
   "name": "python",
   "nbconvert_exporter": "python",
   "pygments_lexer": "ipython3",
   "version": "3.6.5"
  }
 },
 "nbformat": 4,
 "nbformat_minor": 2
}
