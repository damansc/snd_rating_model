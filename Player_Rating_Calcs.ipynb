{
 "cells": [
  {
   "cell_type": "markdown",
   "metadata": {},
   "source": []
  },
  {
   "cell_type": "code",
   "execution_count": 132,
   "metadata": {},
   "outputs": [],
   "source": [
    "import os\n",
    "import pandas as pd\n",
    "from sklearn import preprocessing\n",
    "import numpy as np\n",
    "import seaborn as sns"
   ]
  },
  {
   "cell_type": "code",
   "execution_count": 74,
   "metadata": {},
   "outputs": [],
   "source": [
    "EVENT_FOLDER = './events_csv'\n",
    "EVENT_FILES = os.listdir(EVENT_FOLDER)\n",
    "\n",
    "event_list = []\n",
    "event_names = ['Dallas', 'New Orleans', 'Atlanta', 'Birmingham', ' Pro League 1', 'Relegation', 'Seattle',\n",
    "               'Anaheim', 'Pro League 2', 'Champs']\n",
    "event_dict = {}\n",
    "ww2_snd = []\n",
    "\n",
    "for x in EVENT_FILES:\n",
    "    with open('{}/{}'.format(EVENT_FOLDER, x)) as f:\n",
    "        temp = pd.read_csv(f)\n",
    "        event_list.append(temp)\n",
    "\n",
    "event_dict = dict(zip(event_names, event_list))\n",
    "\n",
    "meta_df = pd.concat(event_list[:])\n",
    "\n",
    "ww2_snd = meta_df[meta_df['mode'] == 'Search & Destroy']"
   ]
  },
  {
   "cell_type": "markdown",
   "metadata": {},
   "source": [
    "Slecting the desired variables, removing weapons that were seen to distort the model, and reclassyfying necessary data types. p_df_filt will be the reference dataset for each statistic calcuation."
   ]
  },
  {
   "cell_type": "code",
   "execution_count": 80,
   "metadata": {},
   "outputs": [],
   "source": [
    "# stats to be used in model\n",
    "target_stats = ['match id','player', 'fave weapon', 'kills', 'kills (stayed alive)', 'shots', \n",
    "                'time alive (s)', 'snd firstbloods', 'scorestreaks earned', 'snd rounds']\n",
    "\n",
    "# objects within 'fave weapon' that influence model results\n",
    "n2low = ['M1 Garand', 'M1941']\n",
    "distort = ['Kar98k', 'Springfield'] + n2low\n",
    "\n",
    "# subsetting for stats, removing distorting weapons, and converting necessary columns to numeric.\n",
    "p_df = ww2_snd[target_stats]\n",
    "p_df_filt = p_df[~p_df['fave weapon'].isin(distort)].copy()\n",
    "p_df_filt['time alive (s)'] = pd.to_numeric(p_df_filt['time alive (s)'], errors=\"coerce\")"
   ]
  },
  {
   "cell_type": "markdown",
   "metadata": {},
   "source": [
    "Each statistic will be calculated in its own dataframe. This may not be the fatest solution but it is the easiest method for visualizing this in my head.\n",
    "\n",
    "Calculating the average kill per round stat and each players residual value:"
   ]
  },
  {
   "cell_type": "code",
   "execution_count": 81,
   "metadata": {},
   "outputs": [],
   "source": [
    "akpr = p_df_filt.groupby('player')['kills', 'snd rounds'].sum()\n",
    "akpr = akpr[akpr['snd rounds'] > 25]\n",
    "akpr['akpr'] = akpr['kills']/akpr['snd rounds']\n",
    "akpr_mu = akpr['akpr'].mean()\n",
    "akpr['akpr.resid']= akpr['akpr']-akpr_mu\n",
    "\n",
    "# storing residual into running residual storage list for later calcualtion\n",
    "\n",
    "resid_list = [akpr['akpr.resid']]"
   ]
  },
  {
   "cell_type": "markdown",
   "metadata": {},
   "source": [
    "Calculating the average non traded kill per round stat and each players residual value:"
   ]
  },
  {
   "cell_type": "code",
   "execution_count": 82,
   "metadata": {},
   "outputs": [],
   "source": [
    "antkpr = p_df_filt.groupby('player')['kills (stayed alive)', 'snd rounds'].sum()\n",
    "antkpr = antkpr[antkpr['snd rounds'] > 25]\n",
    "antkpr['antkpr'] = antkpr['kills (stayed alive)']/antkpr['snd rounds']\n",
    "antkpr_mu = antkpr['antkpr'].mean()\n",
    "antkpr['antkpr.resid']= antkpr['antkpr']-antkpr_mu\n",
    "\n",
    "# storing residual into running residual storage list for later calcualtion\n",
    "\n",
    "resid_list = resid_list + [antkpr['antkpr.resid']]"
   ]
  },
  {
   "cell_type": "markdown",
   "metadata": {},
   "source": [
    "Calculating the average shots per round stat and each players residual value:"
   ]
  },
  {
   "cell_type": "code",
   "execution_count": 83,
   "metadata": {},
   "outputs": [],
   "source": [
    "aspr = p_df_filt.groupby('player')['shots', 'snd rounds'].sum()\n",
    "aspr = aspr[aspr['snd rounds'] > 25]\n",
    "aspr['aspr'] = aspr['shots']/aspr['snd rounds']\n",
    "aspr_mu = aspr['aspr'].mean()\n",
    "aspr['aspr.resid']= aspr['aspr']-aspr_mu\n",
    "\n",
    "# storing residual into running residual storage list for later calcualtion\n",
    "resid_list = resid_list + [aspr['aspr.resid']]"
   ]
  },
  {
   "cell_type": "markdown",
   "metadata": {},
   "source": [
    "Calculating the average time per life stat and each players residual value:"
   ]
  },
  {
   "cell_type": "code",
   "execution_count": 84,
   "metadata": {},
   "outputs": [],
   "source": [
    "atapr = p_df_filt.groupby('player')['time alive (s)', 'snd rounds'].sum()\n",
    "atapr = atapr[atapr['snd rounds'] > 25]\n",
    "atapr['atapr'] = atapr['time alive (s)']/atapr['snd rounds']\n",
    "atapr_mu = atapr['atapr'].mean()\n",
    "atapr['atapr.resid']= atapr['atapr']-atapr_mu\n",
    "\n",
    "# storing residual into running residual storage list for later calcualtion\n",
    "resid_list = resid_list + [atapr['atapr.resid']]"
   ]
  },
  {
   "cell_type": "markdown",
   "metadata": {},
   "source": [
    "Calculating the average firstblood per round stat and each players residual value:"
   ]
  },
  {
   "cell_type": "code",
   "execution_count": 85,
   "metadata": {},
   "outputs": [],
   "source": [
    "afbpr = p_df_filt.groupby('player')['snd firstbloods', 'snd rounds'].sum()\n",
    "afbpr = afbpr[afbpr['snd rounds'] > 25]\n",
    "afbpr['afbpr'] = afbpr['snd firstbloods']/afbpr['snd rounds']\n",
    "afbpr_mu = afbpr['afbpr'].mean()\n",
    "afbpr['afbpr.resid']= afbpr['afbpr']-afbpr_mu\n",
    "\n",
    "# storing residual into running residual storage list for later calcualtion\n",
    "resid_list = resid_list + [afbpr['afbpr.resid']]"
   ]
  },
  {
   "cell_type": "markdown",
   "metadata": {},
   "source": [
    "Calculating the average score streak per round stat and each players residual value:"
   ]
  },
  {
   "cell_type": "code",
   "execution_count": 86,
   "metadata": {},
   "outputs": [],
   "source": [
    "astpr = p_df_filt.groupby('player')['scorestreaks earned', 'snd rounds'].sum()\n",
    "astpr = astpr[astpr['snd rounds'] > 25]\n",
    "astpr['astpr'] = astpr['scorestreaks earned']/astpr['snd rounds']\n",
    "astpr_mu = astpr['astpr'].mean()\n",
    "astpr['astpr.resid']= astpr['astpr']-astpr_mu\n",
    "\n",
    "# storing residual into running residual storage list for later calcualtion\n",
    "resid_list = resid_list + [astpr['astpr.resid']]"
   ]
  },
  {
   "cell_type": "markdown",
   "metadata": {},
   "source": [
    "Taking the mean of each statistics residual. Will use the mean to normalize each stat so no one stat is weighted more than the others due to the scale in their inherent variances."
   ]
  },
  {
   "cell_type": "code",
   "execution_count": 142,
   "metadata": {},
   "outputs": [
    {
     "data": {
      "text/plain": [
       "player\n",
       "Weeman     0.263733\n",
       "Legal      0.222619\n",
       "Abezy      0.221629\n",
       "mosh       0.175611\n",
       "Kismet     0.171337\n",
       "Dashy      0.136081\n",
       "Denza      0.135742\n",
       "Denz       0.124459\n",
       "Slasher    0.124235\n",
       "Zoomaa     0.120997\n",
       "Name: antkpr.resid, dtype: float64"
      ]
     },
     "execution_count": 142,
     "metadata": {},
     "output_type": "execute_result"
    }
   ],
   "source": [
    "resids = pd.concat(resid_list, axis=1)\n",
    "test = resids.drop(columns = 'akpr.resid')\n",
    "test\n",
    "\n",
    "scaled = test.apply(lambda x: (x - np.mean(x)) / (np.max(x) - np.min(x)))\n",
    "test\n",
    "test['antkpr.resid'].nlargest(10)\n",
    "                   "
   ]
  },
  {
   "cell_type": "markdown",
   "metadata": {},
   "source": [
    "Now that the data is scaled (still need to review standardization method as not exactly confident), the next step is to enact the summation of each player's statistic to output the rating."
   ]
  },
  {
   "cell_type": "code",
   "execution_count": 134,
   "metadata": {},
   "outputs": [
    {
     "data": {
      "text/plain": [
       "<matplotlib.axes._subplots.AxesSubplot at 0x11f3ea322e8>"
      ]
     },
     "execution_count": 134,
     "metadata": {},
     "output_type": "execute_result"
    },
    {
     "data": {
      "image/png": "[encoded data removed]",
      "text/plain": [
       "<Figure size 432x288 with 1 Axes>"
      ]
     },
     "metadata": {
      "needs_background": "light"
     },
     "output_type": "display_data"
    }
   ],
   "source": [
    "sums = scaled.sum(axis=1)\n",
    "sns.distplot(sums)"
   ]
  }
 ],
 "metadata": {
  "kernelspec": {
   "display_name": "Python 3",
   "language": "python",
   "name": "python3"
  },
  "language_info": {
   "codemirror_mode": {
    "name": "ipython",
    "version": 3
   },
   "file_extension": ".py",
   "mimetype": "text/x-python",
   "name": "python",
   "nbconvert_exporter": "python",
   "pygments_lexer": "ipython3",
   "version": "3.6.5"
  }
 },
 "nbformat": 4,
 "nbformat_minor": 2
}
